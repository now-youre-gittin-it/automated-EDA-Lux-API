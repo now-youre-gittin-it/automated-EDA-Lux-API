{
 "cells": [
  {
   "cell_type": "code",
   "execution_count": 1,
   "metadata": {},
   "outputs": [],
   "source": [
    "import lux"
   ]
  },
  {
   "cell_type": "code",
   "execution_count": 2,
   "metadata": {},
   "outputs": [],
   "source": [
    "import pandas as pd"
   ]
  },
  {
   "cell_type": "code",
   "execution_count": 3,
   "metadata": {},
   "outputs": [
    {
     "name": "stderr",
     "output_type": "stream",
     "text": [
      "JupyterLab v3.4.3\n",
      "C:\\ProgramData\\Anaconda3\\share\\jupyter\\labextensions\n",
      "        jupyterlab-plotly v5.5.0 enabled ok\n",
      "        jupyterlab_pygments v0.2.2 enabled ok (python, jupyterlab_pygments)\n",
      "        @jupyter-widgets/jupyterlab-manager v3.1.1 enabled ok (python, jupyterlab_widgets)\n",
      "\n",
      "Other labextensions (built into JupyterLab)\n",
      "   app dir: C:\\ProgramData\\Anaconda3\\share\\jupyter\\lab\n",
      "        luxwidget v0.1.11 enabled ok\n",
      "\n",
      "\n",
      "Build recommended, please run `jupyter lab build`:\n",
      "    luxwidget needs to be included in build\n"
     ]
    }
   ],
   "source": [
    "!python -m jupyter labextension list"
   ]
  },
  {
   "cell_type": "code",
   "execution_count": 4,
   "metadata": {
    "scrolled": true
   },
   "outputs": [
    {
     "name": "stderr",
     "output_type": "stream",
     "text": [
      "Enabling notebook extension luxwidget/extension...\n",
      "      - Validating: ok\n"
     ]
    }
   ],
   "source": [
    "#!python -m jupyter nbextension install --py luxwidget\n",
    "!python -m jupyter nbextension enable --py luxwidget"
   ]
  },
  {
   "cell_type": "code",
   "execution_count": 5,
   "metadata": {},
   "outputs": [],
   "source": [
    "#!python -m jupyter labextension install @jupyter-widgets/jupyterlab-manager\n",
    "#!python -m jupyter labextension install luxwidget"
   ]
  },
  {
   "cell_type": "code",
   "execution_count": 6,
   "metadata": {},
   "outputs": [],
   "source": [
    "#To show widgets bby default instead of pandas dataframe\n",
    "lux.config.default_display = \"lux\""
   ]
  },
  {
   "cell_type": "code",
   "execution_count": 7,
   "metadata": {},
   "outputs": [
    {
     "data": {
      "application/vnd.jupyter.widget-view+json": {
       "model_id": "21890e88a6f44bf7b2a5d37056d89830",
       "version_major": 2,
       "version_minor": 0
      },
      "text/plain": [
       "Button(description='Toggle Pandas/Lux', layout=Layout(top='5px', width='140px'), style=ButtonStyle())"
      ]
     },
     "metadata": {},
     "output_type": "display_data"
    },
    {
     "data": {
      "application/vnd.jupyter.widget-view+json": {
       "model_id": "4f3cfc67d3594f3b9291e0049f7e933b",
       "version_major": 2,
       "version_minor": 0
      },
      "text/plain": [
       "Output()"
      ]
     },
     "metadata": {},
     "output_type": "display_data"
    }
   ],
   "source": [
    "#Test code with test dataset to check if Lux is working\n",
    "df11 = pd.read_csv(\"https://raw.githubusercontent.com/lux-org/lux-datasets/master/data/college.csv\")\n",
    "df11"
   ]
  },
  {
   "cell_type": "markdown",
   "metadata": {},
   "source": [
    "# Automated EDA of Superstore Dataset"
   ]
  },
  {
   "cell_type": "code",
   "execution_count": 8,
   "metadata": {
    "scrolled": true
   },
   "outputs": [],
   "source": [
    "#Import dataset\n",
    "df= pd.read_csv(\"Superstore_dataset.csv\")"
   ]
  },
  {
   "cell_type": "code",
   "execution_count": 9,
   "metadata": {},
   "outputs": [],
   "source": [
    "#The following format specifications were suggested by Lux itself when the df is called.\n",
    "#The O/P where this was suggested was too long, so I've removed it\n",
    "df['OrderDate'] = pd.to_datetime(df['OrderDate'], format='%d-%m-%Y')\n",
    "df['ShipDate'] = pd.to_datetime(df['ShipDate'], format='%d-%m-%Y')"
   ]
  },
  {
   "cell_type": "code",
   "execution_count": 10,
   "metadata": {
    "scrolled": false
   },
   "outputs": [
    {
     "data": {
      "application/vnd.jupyter.widget-view+json": {
       "model_id": "a5a2c652dd254f55a78d594b0a708474",
       "version_major": 2,
       "version_minor": 0
      },
      "text/plain": [
       "Button(description='Toggle Pandas/Lux', layout=Layout(top='5px', width='140px'), style=ButtonStyle())"
      ]
     },
     "metadata": {},
     "output_type": "display_data"
    },
    {
     "data": {
      "application/vnd.jupyter.widget-view+json": {
       "model_id": "c9e230c45519458a9ec22ae99de682e1",
       "version_major": 2,
       "version_minor": 0
      },
      "text/plain": [
       "Output()"
      ]
     },
     "metadata": {},
     "output_type": "display_data"
    }
   ],
   "source": [
    "df"
   ]
  },
  {
   "cell_type": "code",
   "execution_count": 11,
   "metadata": {
    "scrolled": true
   },
   "outputs": [],
   "source": [
    "#For debugging in case widgete isnt visible etc. \n",
    "#lux.debug_info()"
   ]
  },
  {
   "cell_type": "markdown",
   "metadata": {},
   "source": [
    "## Filter for specific columns"
   ]
  },
  {
   "cell_type": "code",
   "execution_count": 12,
   "metadata": {
    "scrolled": true
   },
   "outputs": [
    {
     "data": {
      "application/vnd.jupyter.widget-view+json": {
       "model_id": "ba047b48a73d4825acb380d29e5b242b",
       "version_major": 2,
       "version_minor": 0
      },
      "text/plain": [
       "Button(description='Toggle Pandas/Lux', layout=Layout(top='5px', width='140px'), style=ButtonStyle())"
      ]
     },
     "metadata": {},
     "output_type": "display_data"
    },
    {
     "data": {
      "application/vnd.jupyter.widget-view+json": {
       "model_id": "ad5113205cb3474bb56ec1a27f73aff3",
       "version_major": 2,
       "version_minor": 0
      },
      "text/plain": [
       "Output()"
      ]
     },
     "metadata": {},
     "output_type": "display_data"
    }
   ],
   "source": [
    "df.intent = [\"Segment\"]\n",
    "df"
   ]
  },
  {
   "cell_type": "code",
   "execution_count": 14,
   "metadata": {},
   "outputs": [
    {
     "data": {
      "application/vnd.jupyter.widget-view+json": {
       "model_id": "2659809745e44e619ea9ed195b6f14c4",
       "version_major": 2,
       "version_minor": 0
      },
      "text/plain": [
       "LuxWidget(current_vis={'config': {'view': {'continuousWidth': 400, 'continuousHeight': 300}, 'axis': {'labelCo…"
      ]
     },
     "metadata": {},
     "output_type": "display_data"
    }
   ],
   "source": [
    "#Saving the horizontal bar chart of segment-wise counts of records\n",
    "vis=df.exported[0]\n",
    "vis"
   ]
  },
  {
   "cell_type": "markdown",
   "metadata": {},
   "source": [
    "# Exporting viz to matplotlib"
   ]
  },
  {
   "cell_type": "code",
   "execution_count": null,
   "metadata": {
    "scrolled": true
   },
   "outputs": [
    {
     "name": "stdout",
     "output_type": "stream",
     "text": [
      "import matplotlib.pyplot as plt\n",
      "plt.rcParams.update(\n",
      "            {\n",
      "                \"axes.titlesize\": 20,\n",
      "                \"axes.titleweight\": \"bold\",\n",
      "                \"axes.labelweight\": \"bold\",\n",
      "                \"axes.labelsize\": 16,\n",
      "                \"legend.fontsize\": 14,\n",
      "                \"legend.title_fontsize\": 15,\n",
      "                \"xtick.labelsize\": 13,\n",
      "                \"ytick.labelsize\": 13,\n",
      "            }\n",
      "        )\n",
      "import numpy as np\n",
      "from math import nan\n",
      "df = pd.DataFrame({'Segment': {0: 'Consumer', 1: 'Corporate', 2: 'Home Office'}, 'Record': {0: 5191, 1: 3020, 2: 1783}})\n",
      "fig, ax = plt.subplots()\n",
      "bars = df['Segment']\n",
      "measurements = df['Record']\n",
      "ax.barh(0       Consumer\n",
      "1      Corporate\n",
      "2    Home Office\n",
      "Name: Segment, dtype: object, 0    5191\n",
      "1    3020\n",
      "2    1783\n",
      "Name: Record, dtype: int64, align='center')\n",
      "ax.set_xlabel('Record')\n",
      "ax.set_ylabel('Segment')\n",
      "\n",
      "fig\n"
     ]
    }
   ],
   "source": [
    "print (vis.to_code(\"matplotlib\"))"
   ]
  },
  {
   "cell_type": "code",
   "execution_count": null,
   "metadata": {
    "scrolled": true
   },
   "outputs": [
    {
     "data": {
      "text/plain": [
       "Text(0, 0.5, 'Segment')"
      ]
     },
     "execution_count": 20,
     "metadata": {},
     "output_type": "execute_result"
    },
    {
     "data": {
      "image/png": "[encoded data removed]",
      "text/plain": [
       "<Figure size 432x288 with 1 Axes>"
      ]
     },
     "metadata": {
      "needs_background": "light"
     },
     "output_type": "display_data"
    }
   ],
   "source": [
    "#I can copy the output code above so that parameters can be modified as per my wishes below\n",
    "#Minor changes may be necessary to avoid errors; rename dataframe, remove subplots, etc.\n",
    "import matplotlib.pyplot as plt\n",
    "plt.rcParams.update(\n",
    "            {\n",
    "                \"axes.titlesize\": 20,\n",
    "                \"axes.titleweight\": \"bold\",\n",
    "                \"axes.labelweight\": \"bold\",\n",
    "                \"axes.labelsize\": 16,\n",
    "                \"legend.fontsize\": 14,\n",
    "                \"legend.title_fontsize\": 15,\n",
    "                \"xtick.labelsize\": 13,\n",
    "                \"ytick.labelsize\": 13,\n",
    "            }\n",
    "        )\n",
    "import numpy as np\n",
    "from math import nan\n",
    "df_for_chart = pd.DataFrame({'Segment': {0: 'Consumer', 1: 'Corporate', 2: 'Home Office'}, 'Record': {0: 5191, 1: 3020, 2: 1783}})\n",
    "\n",
    "#fig, ax = plt.subplots()\n",
    "bars = df_for_chart['Segment']\n",
    "measurements = df_for_chart['Record']\n",
    "#ax.barh(bars, measurements, align='center')\n",
    "#ax.set_xlabel('No of Records')\n",
    "#ax.set_ylabel('Segment')\n",
    "plt.barh(bars,measurements, align='center')\n",
    "plt.xlabel('No of Records')\n",
    "plt.ylabel('Segment')\n",
    "\n",
    "#fig"
   ]
  },
  {
   "cell_type": "code",
   "execution_count": null,
   "metadata": {
    "scrolled": true
   },
   "outputs": [],
   "source": [
    "#Following line doesn't give individual charts even if you select multiple charts\n",
    "#[print (df.exported[i]) for i in df.exported]"
   ]
  },
  {
   "cell_type": "code",
   "execution_count": 15,
   "metadata": {
    "scrolled": false
   },
   "outputs": [
    {
     "data": {
      "application/vnd.jupyter.widget-view+json": {
       "model_id": "eb067bd1f84944168549f57ccafabd11",
       "version_major": 2,
       "version_minor": 0
      },
      "text/plain": [
       "LuxWidget(recommendations=[{'action': 'Vis List', 'description': 'Shows a vis list defined by the intent', 'vs…"
      ]
     },
     "metadata": {},
     "output_type": "display_data"
    }
   ],
   "source": [
    "#To export a bunch of charts into a list, select individual charts (except main one of the Intent) and click Export\n",
    "#The charts get stored as a list of visualizations in the df.exported attribute\n",
    "bookmarked_charts = df.exported\n",
    "bookmarked_charts"
   ]
  },
  {
   "cell_type": "markdown",
   "metadata": {},
   "source": [
    "# Filter for multiple columns"
   ]
  },
  {
   "cell_type": "code",
   "execution_count": 16,
   "metadata": {},
   "outputs": [
    {
     "data": {
      "application/vnd.jupyter.widget-view+json": {
       "model_id": "5dfb258e565d46d7a621d9f23d787955",
       "version_major": 2,
       "version_minor": 0
      },
      "text/plain": [
       "Button(description='Toggle Pandas/Lux', layout=Layout(top='5px', width='140px'), style=ButtonStyle())"
      ]
     },
     "metadata": {},
     "output_type": "display_data"
    },
    {
     "data": {
      "application/vnd.jupyter.widget-view+json": {
       "model_id": "67994ec09e86492385cf429361b71cc6",
       "version_major": 2,
       "version_minor": 0
      },
      "text/plain": [
       "Output()"
      ]
     },
     "metadata": {},
     "output_type": "display_data"
    }
   ],
   "source": [
    "#Lets say we want to compare sales amounts across categories\n",
    "df.intent = [\"Sales\",\"Category\"]\n",
    "df"
   ]
  }
 ],
 "metadata": {
  "kernelspec": {
   "display_name": "Python 3.8.5 ('base')",
   "language": "python",
   "name": "python3"
  },
  "language_info": {
   "codemirror_mode": {
    "name": "ipython",
    "version": 3
   },
   "file_extension": ".py",
   "mimetype": "text/x-python",
   "name": "python",
   "nbconvert_exporter": "python",
   "pygments_lexer": "ipython3",
   "version": "3.8.5"
  },
  "vscode": {
   "interpreter": {
    "hash": "ad2bdc8ecc057115af97d19610ffacc2b4e99fae6737bb82f5d7fb13d2f2c186"
   }
  }
 },
 "nbformat": 4,
 "nbformat_minor": 4
}
